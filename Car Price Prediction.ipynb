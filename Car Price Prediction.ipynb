{
 "cells": [
  {
   "cell_type": "code",
   "execution_count": 151,
   "metadata": {},
   "outputs": [],
   "source": [
    "# Importacion de librerias \n",
    "import numpy as np \n",
    "import pandas as pd \n",
    "import matplotlib.pyplot as plt\n",
    "import seaborn as sns\n",
    "from sklearn.model_selection import train_test_split, GridSearchCV\n",
    "from sklearn.preprocessing import OneHotEncoder, StandardScaler\n",
    "from sklearn.compose import make_column_transformer\n",
    "from sklearn.linear_model import LinearRegression\n",
    "from sklearn.tree import DecisionTreeRegressor\n",
    "from sklearn.ensemble import RandomForestRegressor\n",
    "from sklearn.metrics import root_mean_squared_error\n",
    "import lightgbm as lgb\n",
    "from catboost import CatBoostRegressor\n",
    "from xgboost import XGBRegressor\n",
    "from sklearn.pipeline import Pipeline\n",
    "import time\n",
    "import os\n",
    "os.environ[\"LOKY_MAX_CPU_COUNT\"] = \"8\""
   ]
  },
  {
   "cell_type": "markdown",
   "metadata": {},
   "source": [
    "# 1. Preparación de Datos "
   ]
  },
  {
   "cell_type": "code",
   "execution_count": 152,
   "metadata": {},
   "outputs": [],
   "source": [
    "# Cargar datos \n",
    "\n",
    "df_car = pd.read_csv('car_data.csv', parse_dates = ['DateCrawled', 'DateCreated', 'LastSeen'], dayfirst=True)"
   ]
  },
  {
   "cell_type": "code",
   "execution_count": 153,
   "metadata": {},
   "outputs": [],
   "source": [
    "def clean_data(df):\n",
    "    # Eliminar duplicados\n",
    "    df = df.drop_duplicates()\n",
    "    \n",
    "    # Filtrar años de registro coherentes\n",
    "    df = df[(df['RegistrationYear'] >= 1900) & (df['RegistrationYear'] <= 2023)]\n",
    "    \n",
    "    # Filtrar potencias coherentes\n",
    "    df = df[(df['Power'] >= 50) & (df['Power'] <= 1000)]\n",
    "    \n",
    "    # Eliminar columnas no relevantes\n",
    "    cols_to_drop = ['DateCrawled', 'DateCreated', 'LastSeen', 'PostalCode', 'NumberOfPictures']\n",
    "    df = df.drop(cols_to_drop, axis=1)\n",
    "\n",
    "    # Cambio de valores ausentes \n",
    "    for col_nul in df.columns[df.isnull().sum() > 0]:\n",
    "        df.fillna({col_nul:'unknown'}, inplace=True)\n",
    "\n",
    "    return df\n"
   ]
  },
  {
   "cell_type": "code",
   "execution_count": 154,
   "metadata": {},
   "outputs": [
    {
     "name": "stdout",
     "output_type": "stream",
     "text": [
      "<class 'pandas.core.frame.DataFrame'>\n",
      "RangeIndex: 354369 entries, 0 to 354368\n",
      "Data columns (total 16 columns):\n",
      " #   Column             Non-Null Count   Dtype         \n",
      "---  ------             --------------   -----         \n",
      " 0   DateCrawled        354369 non-null  datetime64[ns]\n",
      " 1   Price              354369 non-null  int64         \n",
      " 2   VehicleType        316879 non-null  object        \n",
      " 3   RegistrationYear   354369 non-null  int64         \n",
      " 4   Gearbox            334536 non-null  object        \n",
      " 5   Power              354369 non-null  int64         \n",
      " 6   Model              334664 non-null  object        \n",
      " 7   Mileage            354369 non-null  int64         \n",
      " 8   RegistrationMonth  354369 non-null  int64         \n",
      " 9   FuelType           321474 non-null  object        \n",
      " 10  Brand              354369 non-null  object        \n",
      " 11  NotRepaired        283215 non-null  object        \n",
      " 12  DateCreated        354369 non-null  datetime64[ns]\n",
      " 13  NumberOfPictures   354369 non-null  int64         \n",
      " 14  PostalCode         354369 non-null  int64         \n",
      " 15  LastSeen           354369 non-null  datetime64[ns]\n",
      "dtypes: datetime64[ns](3), int64(7), object(6)\n",
      "memory usage: 43.3+ MB\n"
     ]
    }
   ],
   "source": [
    "df_car.info()"
   ]
  },
  {
   "cell_type": "code",
   "execution_count": 155,
   "metadata": {},
   "outputs": [
    {
     "data": {
      "text/plain": [
       "DateCrawled              0\n",
       "Price                    0\n",
       "VehicleType          37490\n",
       "RegistrationYear         0\n",
       "Gearbox              19833\n",
       "Power                    0\n",
       "Model                19705\n",
       "Mileage                  0\n",
       "RegistrationMonth        0\n",
       "FuelType             32895\n",
       "Brand                    0\n",
       "NotRepaired          71154\n",
       "DateCreated              0\n",
       "NumberOfPictures         0\n",
       "PostalCode               0\n",
       "LastSeen                 0\n",
       "dtype: int64"
      ]
     },
     "execution_count": 155,
     "metadata": {},
     "output_type": "execute_result"
    }
   ],
   "source": [
    "# Revision de valores ausentes \n",
    "df_car.isnull().sum()"
   ]
  },
  {
   "cell_type": "code",
   "execution_count": 156,
   "metadata": {},
   "outputs": [
    {
     "name": "stdout",
     "output_type": "stream",
     "text": [
      "<class 'pandas.core.frame.DataFrame'>\n",
      "Index: 307609 entries, 1 to 354368\n",
      "Data columns (total 11 columns):\n",
      " #   Column             Non-Null Count   Dtype \n",
      "---  ------             --------------   ----- \n",
      " 0   Price              307609 non-null  int64 \n",
      " 1   VehicleType        307609 non-null  object\n",
      " 2   RegistrationYear   307609 non-null  int64 \n",
      " 3   Gearbox            307609 non-null  object\n",
      " 4   Power              307609 non-null  int64 \n",
      " 5   Model              307609 non-null  object\n",
      " 6   Mileage            307609 non-null  int64 \n",
      " 7   RegistrationMonth  307609 non-null  int64 \n",
      " 8   FuelType           307609 non-null  object\n",
      " 9   Brand              307609 non-null  object\n",
      " 10  NotRepaired        307609 non-null  object\n",
      "dtypes: int64(5), object(6)\n",
      "memory usage: 28.2+ MB\n"
     ]
    }
   ],
   "source": [
    "df_car = clean_data(df_car)\n",
    "df_car.info()\n",
    "\n",
    "# df_car = df_car.sample(frac=0.01, random_state=42) # Muestra de los datos para acelerar el proceso de entrenamiento en pruebas"
   ]
  },
  {
   "cell_type": "code",
   "execution_count": 157,
   "metadata": {},
   "outputs": [
    {
     "data": {
      "text/plain": [
       "Price                0\n",
       "VehicleType          0\n",
       "RegistrationYear     0\n",
       "Gearbox              0\n",
       "Power                0\n",
       "Model                0\n",
       "Mileage              0\n",
       "RegistrationMonth    0\n",
       "FuelType             0\n",
       "Brand                0\n",
       "NotRepaired          0\n",
       "dtype: int64"
      ]
     },
     "execution_count": 157,
     "metadata": {},
     "output_type": "execute_result"
    }
   ],
   "source": [
    "# Revision de datos en las columnas para los valores ausentes\n",
    "df_car.isnull().sum()"
   ]
  },
  {
   "cell_type": "code",
   "execution_count": 158,
   "metadata": {},
   "outputs": [
    {
     "data": {
      "text/html": [
       "<div>\n",
       "<style scoped>\n",
       "    .dataframe tbody tr th:only-of-type {\n",
       "        vertical-align: middle;\n",
       "    }\n",
       "\n",
       "    .dataframe tbody tr th {\n",
       "        vertical-align: top;\n",
       "    }\n",
       "\n",
       "    .dataframe thead th {\n",
       "        text-align: right;\n",
       "    }\n",
       "</style>\n",
       "<table border=\"1\" class=\"dataframe\">\n",
       "  <thead>\n",
       "    <tr style=\"text-align: right;\">\n",
       "      <th></th>\n",
       "      <th>Price</th>\n",
       "      <th>VehicleType</th>\n",
       "      <th>RegistrationYear</th>\n",
       "      <th>Gearbox</th>\n",
       "      <th>Power</th>\n",
       "      <th>Model</th>\n",
       "      <th>Mileage</th>\n",
       "      <th>RegistrationMonth</th>\n",
       "      <th>FuelType</th>\n",
       "      <th>Brand</th>\n",
       "      <th>NotRepaired</th>\n",
       "    </tr>\n",
       "  </thead>\n",
       "  <tbody>\n",
       "    <tr>\n",
       "      <th>134045</th>\n",
       "      <td>3300</td>\n",
       "      <td>bus</td>\n",
       "      <td>1988</td>\n",
       "      <td>manual</td>\n",
       "      <td>57</td>\n",
       "      <td>transporter</td>\n",
       "      <td>125000</td>\n",
       "      <td>6</td>\n",
       "      <td>gasoline</td>\n",
       "      <td>volkswagen</td>\n",
       "      <td>no</td>\n",
       "    </tr>\n",
       "    <tr>\n",
       "      <th>206920</th>\n",
       "      <td>16450</td>\n",
       "      <td>sedan</td>\n",
       "      <td>2009</td>\n",
       "      <td>auto</td>\n",
       "      <td>170</td>\n",
       "      <td>cc</td>\n",
       "      <td>125000</td>\n",
       "      <td>2</td>\n",
       "      <td>gasoline</td>\n",
       "      <td>volkswagen</td>\n",
       "      <td>no</td>\n",
       "    </tr>\n",
       "    <tr>\n",
       "      <th>333469</th>\n",
       "      <td>650</td>\n",
       "      <td>sedan</td>\n",
       "      <td>2000</td>\n",
       "      <td>manual</td>\n",
       "      <td>102</td>\n",
       "      <td>a3</td>\n",
       "      <td>150000</td>\n",
       "      <td>12</td>\n",
       "      <td>petrol</td>\n",
       "      <td>audi</td>\n",
       "      <td>yes</td>\n",
       "    </tr>\n",
       "    <tr>\n",
       "      <th>101679</th>\n",
       "      <td>16000</td>\n",
       "      <td>wagon</td>\n",
       "      <td>2010</td>\n",
       "      <td>manual</td>\n",
       "      <td>178</td>\n",
       "      <td>3er</td>\n",
       "      <td>90000</td>\n",
       "      <td>10</td>\n",
       "      <td>petrol</td>\n",
       "      <td>bmw</td>\n",
       "      <td>no</td>\n",
       "    </tr>\n",
       "    <tr>\n",
       "      <th>183582</th>\n",
       "      <td>18500</td>\n",
       "      <td>convertible</td>\n",
       "      <td>2010</td>\n",
       "      <td>auto</td>\n",
       "      <td>306</td>\n",
       "      <td>3er</td>\n",
       "      <td>125000</td>\n",
       "      <td>2</td>\n",
       "      <td>petrol</td>\n",
       "      <td>bmw</td>\n",
       "      <td>no</td>\n",
       "    </tr>\n",
       "    <tr>\n",
       "      <th>197044</th>\n",
       "      <td>1200</td>\n",
       "      <td>small</td>\n",
       "      <td>2003</td>\n",
       "      <td>manual</td>\n",
       "      <td>101</td>\n",
       "      <td>ibiza</td>\n",
       "      <td>150000</td>\n",
       "      <td>11</td>\n",
       "      <td>gasoline</td>\n",
       "      <td>seat</td>\n",
       "      <td>yes</td>\n",
       "    </tr>\n",
       "    <tr>\n",
       "      <th>69800</th>\n",
       "      <td>4990</td>\n",
       "      <td>coupe</td>\n",
       "      <td>2004</td>\n",
       "      <td>manual</td>\n",
       "      <td>90</td>\n",
       "      <td>one</td>\n",
       "      <td>125000</td>\n",
       "      <td>11</td>\n",
       "      <td>petrol</td>\n",
       "      <td>mini</td>\n",
       "      <td>no</td>\n",
       "    </tr>\n",
       "    <tr>\n",
       "      <th>177002</th>\n",
       "      <td>690</td>\n",
       "      <td>small</td>\n",
       "      <td>1998</td>\n",
       "      <td>manual</td>\n",
       "      <td>54</td>\n",
       "      <td>micra</td>\n",
       "      <td>150000</td>\n",
       "      <td>4</td>\n",
       "      <td>petrol</td>\n",
       "      <td>nissan</td>\n",
       "      <td>no</td>\n",
       "    </tr>\n",
       "    <tr>\n",
       "      <th>145528</th>\n",
       "      <td>8888</td>\n",
       "      <td>wagon</td>\n",
       "      <td>2009</td>\n",
       "      <td>manual</td>\n",
       "      <td>120</td>\n",
       "      <td>other</td>\n",
       "      <td>150000</td>\n",
       "      <td>4</td>\n",
       "      <td>gasoline</td>\n",
       "      <td>citroen</td>\n",
       "      <td>no</td>\n",
       "    </tr>\n",
       "    <tr>\n",
       "      <th>95939</th>\n",
       "      <td>10800</td>\n",
       "      <td>suv</td>\n",
       "      <td>2005</td>\n",
       "      <td>auto</td>\n",
       "      <td>218</td>\n",
       "      <td>grand</td>\n",
       "      <td>150000</td>\n",
       "      <td>6</td>\n",
       "      <td>gasoline</td>\n",
       "      <td>jeep</td>\n",
       "      <td>no</td>\n",
       "    </tr>\n",
       "  </tbody>\n",
       "</table>\n",
       "</div>"
      ],
      "text/plain": [
       "        Price  VehicleType  RegistrationYear Gearbox  Power        Model  \\\n",
       "134045   3300          bus              1988  manual     57  transporter   \n",
       "206920  16450        sedan              2009    auto    170           cc   \n",
       "333469    650        sedan              2000  manual    102           a3   \n",
       "101679  16000        wagon              2010  manual    178          3er   \n",
       "183582  18500  convertible              2010    auto    306          3er   \n",
       "197044   1200        small              2003  manual    101        ibiza   \n",
       "69800    4990        coupe              2004  manual     90          one   \n",
       "177002    690        small              1998  manual     54        micra   \n",
       "145528   8888        wagon              2009  manual    120        other   \n",
       "95939   10800          suv              2005    auto    218        grand   \n",
       "\n",
       "        Mileage  RegistrationMonth  FuelType       Brand NotRepaired  \n",
       "134045   125000                  6  gasoline  volkswagen          no  \n",
       "206920   125000                  2  gasoline  volkswagen          no  \n",
       "333469   150000                 12    petrol        audi         yes  \n",
       "101679    90000                 10    petrol         bmw          no  \n",
       "183582   125000                  2    petrol         bmw          no  \n",
       "197044   150000                 11  gasoline        seat         yes  \n",
       "69800    125000                 11    petrol        mini          no  \n",
       "177002   150000                  4    petrol      nissan          no  \n",
       "145528   150000                  4  gasoline     citroen          no  \n",
       "95939    150000                  6  gasoline        jeep          no  "
      ]
     },
     "execution_count": 158,
     "metadata": {},
     "output_type": "execute_result"
    }
   ],
   "source": [
    "df_car.sample(10)"
   ]
  },
  {
   "cell_type": "code",
   "execution_count": 159,
   "metadata": {},
   "outputs": [
    {
     "data": {
      "text/plain": [
       "(307609, 11)"
      ]
     },
     "execution_count": 159,
     "metadata": {},
     "output_type": "execute_result"
    }
   ],
   "source": [
    "df_car.shape"
   ]
  },
  {
   "cell_type": "markdown",
   "metadata": {},
   "source": [
    "# Entrenamiento de modelos "
   ]
  },
  {
   "cell_type": "code",
   "execution_count": 160,
   "metadata": {},
   "outputs": [],
   "source": [
    "# Division de datos de entrenamiento y prueba \n",
    "\n",
    "X = df_car.drop(columns='Price')\n",
    "y = df_car['Price'] \n",
    "\n",
    "X_train, X_test, y_train, y_test = train_test_split(X, \n",
    "                                                    y, \n",
    "                                                    test_size = 0.3, \n",
    "                                                    random_state = 123)"
   ]
  },
  {
   "cell_type": "code",
   "execution_count": 161,
   "metadata": {},
   "outputs": [],
   "source": [
    "# Preprocesamiento para los modelos que requieren OHE\n",
    "numeric_cols = X.select_dtypes(include=['int64']).columns\n",
    "categorical_cols = X.select_dtypes(include=['object']).columns\n",
    "\n",
    "preprocessor = make_column_transformer(\n",
    "    (StandardScaler(), numeric_cols),\n",
    "    (OneHotEncoder(handle_unknown='ignore'), categorical_cols),\n",
    "    remainder='passthrough'\n",
    ")"
   ]
  },
  {
   "cell_type": "markdown",
   "metadata": {},
   "source": [
    "## Modelos"
   ]
  },
  {
   "cell_type": "code",
   "execution_count": 162,
   "metadata": {},
   "outputs": [],
   "source": [
    "# Modelos tradicionales\n",
    "traditional_models = {\n",
    "    'Linear Regression' : LinearRegression(),\n",
    "    'Decision Tree' : DecisionTreeRegressor(random_state = 123),\n",
    "    'Random Forest' : RandomForestRegressor(random_state = 123, n_jobs = -1)\n",
    "}\n",
    "\n",
    "# Modelos con boosting\n",
    "boosting_models = { \n",
    "    'LightGBM' : lgb.LGBMRegressor(random_state=123, verbosity = -1),\n",
    "    'CatBoost' : CatBoostRegressor(random_state = 123, silent = True, cat_features = categorical_cols.tolist()),\n",
    "    'XGBoost' : XGBRegressor(random_state=123)\n",
    "}"
   ]
  },
  {
   "cell_type": "code",
   "execution_count": 163,
   "metadata": {},
   "outputs": [],
   "source": [
    "# Hiperparametros para GridSearch\n",
    "param_grid = {\n",
    "    'Random Forest' : {\n",
    "        'randomforestregressor__n_estimators' : [100, 150],\n",
    "        'randomforestregressor__max_depth' : [None, 20], \n",
    "        'randomforestregressor__min_samples_split' : [2,5]\n",
    "    },\n",
    "    'LightGBM' : {\n",
    "        'lgbmregressor__learning_rate' : [0.1, 0.05],\n",
    "        'lgbmregressor__n_estimators' : [100, 150], \n",
    "        'lgbmregressor__num_leaves' : [31, 63]\n",
    "    }, \n",
    "    'CatBoost' : {\n",
    "        'catboostregressor__iterations' : [100, 150],\n",
    "        'catboostregressor__depth' : [6, 8],\n",
    "        'catboostregressor__learning_rate' : [0.1, 0.05]\n",
    "    }, \n",
    "    'XGBoost' : {\n",
    "        'xgbregressor__learning_rate' : [0.1, 0.05],\n",
    "        'xgbregressor__n_estimators' : [100, 150], \n",
    "        'xgbregressor__max_depth' : [3, 6] \n",
    "    }\n",
    "}"
   ]
  },
  {
   "cell_type": "markdown",
   "metadata": {},
   "source": [
    "## Evaluacion de modelos"
   ]
  },
  {
   "cell_type": "code",
   "execution_count": null,
   "metadata": {},
   "outputs": [],
   "source": [
    "# Funcion para evaluar modelos tradicionales\n",
    "\n",
    "def evaluate_traditional_model(model, X_train, X_test, y_train, y_test):\n",
    "    pipeline = Pipeline([\n",
    "        ('preprocessor', preprocessor),\n",
    "        ('model', model)\n",
    "    ])\n",
    "\n",
    "    start_train = time.time()\n",
    "    pipeline.fit(X_train, y_train)\n",
    "    train_time = time.time() - start_train\n",
    "\n",
    "    start_pred = time.time()\n",
    "    y_pred = pipeline.predict(X_test)\n",
    "    pred_time = time.time() - start_pred\n",
    "\n",
    "    rmse = root_mean_squared_error(y_test, y_pred)\n",
    "\n",
    "    return rmse, train_time, pred_time"
   ]
  },
  {
   "cell_type": "markdown",
   "metadata": {},
   "source": [
    "## Entrenamiento de Modelos"
   ]
  },
  {
   "cell_type": "code",
   "execution_count": null,
   "metadata": {},
   "outputs": [
    {
     "name": "stdout",
     "output_type": "stream",
     "text": [
      "Entrenando Linear Regression...\n",
      "Entrenando Decision Tree...\n",
      "Entrenando Random Forest...\n"
     ]
    }
   ],
   "source": [
    "results = []\n",
    "\n",
    "# Modelos Tradicionales\n",
    "for name, model in traditional_models.items():\n",
    "    print(f'Entrenando {name}...')\n",
    "\n",
    "    try: \n",
    "        rmse, train_time, pred_time = evaluate_traditional_model(model, X_train, X_test, y_train, y_test)\n",
    "        results.append({\n",
    "            'Model' : name,\n",
    "            'RMSE' : rmse, \n",
    "            'Train Time (s)' : train_time,\n",
    "            'Prediction Time (s)' : pred_time\n",
    "        })\n",
    "    except Exception as e: \n",
    "        print(f'Error con {name}: {str(e)}')"
   ]
  },
  {
   "cell_type": "code",
   "execution_count": 166,
   "metadata": {},
   "outputs": [
    {
     "name": "stdout",
     "output_type": "stream",
     "text": [
      "Ajustando Random Forest\n",
      "Ajustando LightGBM\n"
     ]
    },
    {
     "name": "stderr",
     "output_type": "stream",
     "text": [
      "C:\\Users\\lloyd\\AppData\\Local\\Packages\\PythonSoftwareFoundation.Python.3.11_qbz5n2kfra8p0\\LocalCache\\local-packages\\Python311\\site-packages\\sklearn\\utils\\validation.py:2739: UserWarning: X does not have valid feature names, but LGBMRegressor was fitted with feature names\n",
      "  warnings.warn(\n"
     ]
    },
    {
     "name": "stdout",
     "output_type": "stream",
     "text": [
      "Ajustando CatBoost\n",
      "Ajustando XGBoost\n"
     ]
    }
   ],
   "source": [
    "# Ajuste de hiperparametros \n",
    "\n",
    "for name in param_grid.keys(): \n",
    "    print(f'Ajustando {name}')\n",
    "\n",
    "    try: \n",
    "        if name == 'Random Forest':\n",
    "            hy_pipeline = Pipeline([\n",
    "                ('preprocessor', preprocessor),\n",
    "                (list(param_grid[name].keys())[0].split('_')[0], traditional_models[name])\n",
    "            ])\n",
    "        else: \n",
    "            hy_pipeline = Pipeline([\n",
    "                ('preprocessor', preprocessor),\n",
    "                (list(param_grid[name].keys())[0].split('_')[0], boosting_models[name])\n",
    "            ])\n",
    "        \n",
    "        grid_search = GridSearchCV(\n",
    "            hy_pipeline, \n",
    "            param_grid[name],\n",
    "            cv = 3,\n",
    "            scoring = 'neg_root_mean_squared_error',\n",
    "            n_jobs = -1\n",
    "        )\n",
    "\n",
    "        if name in 'LightGBM':\n",
    "            X_train_lgb = X_train.copy()\n",
    "            X_test_lgb = X_test.copy()\n",
    "            for col in categorical_cols:\n",
    "                X_train_lgb[col] = X_train_lgb[col].astype('category')\n",
    "                X_test_lgb[col] = X_test_lgb[col].astype('category')\n",
    "            \n",
    "            start_train = time.time()\n",
    "            grid_search.fit(X_train_lgb, y_train)\n",
    "            train_time = time.time() - start_train\n",
    "\n",
    "            start_pred = time.time()\n",
    "            y_pred = grid_search.predict(X_test_lgb)\n",
    "            pred_time = time.time() - start_pred\n",
    "\n",
    "            rmse = root_mean_squared_error(y_test, y_pred)\n",
    "\n",
    "        elif name == 'CatBoost':\n",
    "            cat_pipeline = Pipeline([\n",
    "                    ('preprocessor', preprocessor),\n",
    "                    ('catboostregressor', CatBoostRegressor(random_state = 123, silent = True))\n",
    "                ])\n",
    "            \n",
    "            grid_search = GridSearchCV(\n",
    "                cat_pipeline,\n",
    "                param_grid['CatBoost'],\n",
    "                cv=3,\n",
    "                scoring='neg_root_mean_squared_error',\n",
    "                n_jobs=-1\n",
    "            )\n",
    "\n",
    "            start_train = time.time()\n",
    "            grid_search.fit(X_train, y_train)\n",
    "            train_time = time.time() - start_train\n",
    "\n",
    "            start_pred = time.time()\n",
    "            y_pred = grid_search.predict(X_test)\n",
    "            pred_time = time.time() - start_pred\n",
    "\n",
    "            rmse = root_mean_squared_error(y_test, y_pred)\n",
    "                        \n",
    "        else: \n",
    "            start_train = time.time()\n",
    "            grid_search.fit(X_train, y_train)\n",
    "            train_time = time.time() - start_train\n",
    "\n",
    "            start_pred = time.time()\n",
    "            y_pred = grid_search.predict(X_test)\n",
    "            pred_time = time.time() - start_pred\n",
    "\n",
    "            rmse = root_mean_squared_error(y_test, y_pred)\n",
    "            \n",
    "        results.append({\n",
    "            'Model': f'{name} (Ajustado)',\n",
    "            'RMSE': rmse,\n",
    "            'Train Time (s)': train_time,\n",
    "            'Prediction Time (s)': pred_time\n",
    "        })\n",
    "        \n",
    "    except Exception as e:\n",
    "        print(f\"Error ajustando {name}: {str(e)}\")"
   ]
  },
  {
   "cell_type": "code",
   "execution_count": 172,
   "metadata": {},
   "outputs": [],
   "source": [
    "results_df = pd.DataFrame(results).sort_values(by = 'RMSE')\n",
    "results_df.reset_index(drop=True, inplace=True)"
   ]
  },
  {
   "cell_type": "code",
   "execution_count": 171,
   "metadata": {},
   "outputs": [
    {
     "name": "stdout",
     "output_type": "stream",
     "text": [
      "\n",
      "Final Results:\n",
      "                      Model         RMSE  Train Time (s)  Prediction Time (s)\n",
      "0  Random Forest (Ajustado)  1675.999737     8081.063189             1.123191\n",
      "1             Random Forest  1697.398810      783.230787             0.806243\n",
      "2       LightGBM (Ajustado)  1704.123435       23.521119             0.717267\n",
      "3        XGBoost (Ajustado)  1775.029419       12.781644             0.280061\n",
      "4       CatBoost (Ajustado)  1796.784720       31.586106             0.336155\n",
      "5             Decision Tree  2172.527032       67.538165             0.176314\n",
      "6         Linear Regression  2653.633299        1.698735             0.115663\n"
     ]
    },
    {
     "data": {
      "image/png": "[encoded data removed]",
      "text/plain": [
       "<Figure size 1200x600 with 1 Axes>"
      ]
     },
     "metadata": {},
     "output_type": "display_data"
    },
    {
     "name": "stdout",
     "output_type": "stream",
     "text": [
      "\n",
      "Best model: Random Forest (Ajustado)\n"
     ]
    }
   ],
   "source": [
    "# 6. Results Analysis\n",
    "print(\"\\nFinal Results:\")\n",
    "print(results_df[['Model', 'RMSE', 'Train Time (s)', 'Prediction Time (s)']].to_string())\n",
    "\n",
    "# Visualize results\n",
    "plt.figure(figsize=(12, 6))\n",
    "sns.barplot(data=results_df, x='Model', y='RMSE')\n",
    "plt.xticks(rotation=45)\n",
    "plt.title('Model Performance Comparison (RMSE)')\n",
    "plt.tight_layout()\n",
    "plt.show()\n",
    "\n",
    "# Save best model\n",
    "best_model_name = results_df.iloc[0]['Model']\n",
    "print(f\"\\nBest model: {best_model_name}\")"
   ]
  },
  {
   "cell_type": "markdown",
   "metadata": {},
   "source": [
    "# Conlclusion\n",
    "\n",
    "1. **Mejor Modelo con Precisión (RMSE):**\n",
    "* **Random Forest Ajustado** obtuvo el menor RMSE (1675.99), este fue el mas preciso. Sin embargo, su tiempo de entrenamiento fue extemadamente alto (8081.06 s) lo que lo hace poco practico para entornos donde la velocidad es critica.\n",
    "\n",
    "2. **Equilibrio entre Precisión y Velocidad:**\n",
    "* **LightGBM** ofrece un buen equilibrio entre el RMSE junto con la velocidad de entrenamiento. Este tiene un RMSE de (1704.12, lo cual es solamente 1.7% mas alto que Random Forest). Asimismo, tiene un tiempo de entrenamiento 350 veces mas rapido que el Random Forest Ajustado con 23.5s. \n",
    "\n",
    "3. **Modelo Más Rápido en Entrenamiento:**\n",
    "* **XGBoost** fue el mas rapido en entrenarse con (12.8s) con un RMSE de 1775. Este podria ser ideal para hacer iteraciones rapidas durante el desarrollo. \n",
    "\n",
    "5. **Tiempos de Predicción:**\n",
    "* Todos los modelos a excepción de Random Forest predicen en < 1s, siendo XGBoost el mas rapido (0.28s). Esto es crucial para las aplicaciones en tiempo real. \n",
    "\n",
    "\n",
    "\n",
    "Precisión (RMSE) vs. Velocidad de Entrenamiento:\n",
    "|RMSE |Modelo                      |Velocidad|\n",
    "|-----|----------------------------|---------|\n",
    "|1676 | ● Random Forest (Ajustado) |[Lento]  |\n",
    "|1704 | ● LightGBM           |[Recomendado]  |\n",
    "|1775 | ● XGBoost             |[Más Rápido]  |\n",
    "\n",
    "En conclusión el mejor modelo para utilizar en esta aplicación seria **LightGBM** ya que ofrece un balance óptimo entre la precisión y velocidad de entrenamiento para este caso de uso. "
   ]
  },
  {
   "cell_type": "markdown",
   "metadata": {},
   "source": []
  }
 ],
 "metadata": {
  "kernelspec": {
   "display_name": ".venv",
   "language": "python",
   "name": "python3"
  },
  "language_info": {
   "codemirror_mode": {
    "name": "ipython",
    "version": 3
   },
   "file_extension": ".py",
   "mimetype": "text/x-python",
   "name": "python",
   "nbconvert_exporter": "python",
   "pygments_lexer": "ipython3",
   "version": "3.11.9"
  }
 },
 "nbformat": 4,
 "nbformat_minor": 2
}
